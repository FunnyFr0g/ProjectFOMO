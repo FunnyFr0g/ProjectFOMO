{
 "cells": [
  {
   "metadata": {},
   "cell_type": "markdown",
   "source": "# Облако",
   "id": "8dbe8595117b5a01"
  },
  {
   "cell_type": "code",
   "execution_count": null,
   "id": "initial_id",
   "metadata": {
    "collapsed": true
   },
   "outputs": [],
   "source": [
    "\n",
    "%env CLEARML_WEB_HOST=https://app.clear.ml/\n",
    "%env CLEARML_API_HOST=https://api.clear.ml\n",
    "%env CLEARML_FILES_HOST=https://files.clear.ml\n",
    "%env CLEARML_API_ACCESS_KEY=UYT7CN4QVOORGQHYBKIC17B9SQUWOP\n",
    "%env CLEARML_API_SECRET_KEY=L06BUQ4bFm7nNmd3wHK-kDmC0H6i7HnYqKAOGaKuCCF3cCEi1FTJTGh0dABiOgCQY8c"
   ]
  },
  {
   "metadata": {},
   "cell_type": "markdown",
   "source": "# Локальный сервер",
   "id": "b48372555f91202c"
  },
  {
   "metadata": {
    "ExecuteTime": {
     "end_time": "2025-09-18T08:53:16.946246Z",
     "start_time": "2025-09-18T08:53:16.943070Z"
    }
   },
   "cell_type": "code",
   "source": [
    "%env CLEARML_WEB_HOST=http://clearml.neuro.pro/\n",
    "%env CLEARML_API_HOST=http://clearml.neuro.pro:8008\n",
    "# %env CLEARML_FILES_HOST=https://files.clear.ml\n",
    "%env CLEARML_API_ACCESS_KEY=FCIPBUK4NYRADK02Y27SEK99P112ZT\n",
    "%env CLEARML_API_SECRET_KEY=QfZqkM8zpiMazccdd_EQJM3qp_F-1owW8OVJgef2fnoBCutVHWoVkN9hWxtvsAuKGSQ"
   ],
   "id": "a3358f24805cf354",
   "outputs": [
    {
     "name": "stdout",
     "output_type": "stream",
     "text": [
      "env: CLEARML_WEB_HOST=http://clearml.neuro.pro/\n",
      "env: CLEARML_API_HOST=http://clearml.neuro.pro:8008\n",
      "env: CLEARML_API_ACCESS_KEY=FCIPBUK4NYRADK02Y27SEK99P112ZT\n",
      "env: CLEARML_API_SECRET_KEY=QfZqkM8zpiMazccdd_EQJM3qp_F-1owW8OVJgef2fnoBCutVHWoVkN9hWxtvsAuKGSQ\n"
     ]
    }
   ],
   "execution_count": 1
  },
  {
   "metadata": {
    "ExecuteTime": {
     "end_time": "2025-09-18T08:58:54.739362Z",
     "start_time": "2025-09-18T08:58:54.735916Z"
    }
   },
   "cell_type": "code",
   "source": [
    "%env CLEARML_WEB_HOST=http://neuro.kbl-kr.ru/\n",
    "%env CLEARML_API_HOST=http://neuro.kbl-kr.ru:8008\n",
    "# %env CLEARML_FILES_HOST=https://files.clear.ml\n",
    "%env CLEARML_API_ACCESS_KEY=W5GHI79KG5PVRRULKY63CK9154OTXB\n",
    "%env CLEARML_API_SECRET_KEY=LL1OCfgO714o693AuAUfEHX9QWUnQ9n-h8en8EbD6oJpa8f8uPCWjXzzvOaaBNCu0h4"
   ],
   "id": "e3fab0635ab37c57",
   "outputs": [
    {
     "name": "stdout",
     "output_type": "stream",
     "text": [
      "env: CLEARML_WEB_HOST=http://neuro.kbl-kr.ru/\n",
      "env: CLEARML_API_HOST=http://neuro.kbl-kr.ru:8008\n",
      "env: CLEARML_API_ACCESS_KEY=W5GHI79KG5PVRRULKY63CK9154OTXB\n",
      "env: CLEARML_API_SECRET_KEY=LL1OCfgO714o693AuAUfEHX9QWUnQ9n-h8en8EbD6oJpa8f8uPCWjXzzvOaaBNCu0h4\n"
     ]
    }
   ],
   "execution_count": 8
  },
  {
   "metadata": {},
   "cell_type": "markdown",
   "source": "# загрузка датасета",
   "id": "cbb360dd955305d4"
  },
  {
   "metadata": {
    "ExecuteTime": {
     "end_time": "2025-09-18T08:57:49.889432Z",
     "start_time": "2025-09-18T08:57:48.655272Z"
    }
   },
   "cell_type": "code",
   "source": [
    "from clearml import Dataset\n",
    "\n",
    "dataset = Dataset.create(\n",
    "    dataset_name='FOMO_SOD',\n",
    "    dataset_project='SmallObjectDetection',\n",
    "    description = 'фото 224х224 кропнутые из открытого датасета MVA23 с COCO разметкой'\n",
    ")\n",
    "\n",
    "train_path = r'X:\\SOD\\MVA2023SmallObjectDetection4SpottingBirds\\data\\mva2023_sod4bird_train_FOMO\\train\\images'\n",
    "train_ann_path = r'X:\\SOD\\MVA2023SmallObjectDetection4SpottingBirds\\data\\mva2023_sod4bird_train_FOMO\\mva23_FOMO_train.json'\n",
    "dataset.add_files(path=train_path, dataset_path='train/images')\n",
    "dataset.add_files(path=train_ann_path, dataset_path='train/train_annotations')\n",
    "\n",
    "val_path = r'X:\\SOD\\MVA2023SmallObjectDetection4SpottingBirds\\data\\mva2023_sod4bird_train_FOMO\\val\\images'\n",
    "val_ann_path = r'X:\\SOD\\MVA2023SmallObjectDetection4SpottingBirds\\data\\mva2023_sod4bird_train_FOMO\\mva23_FOMO_val.json'\n",
    "dataset.add_files(path=val_path, dataset_path='val/images')\n",
    "dataset.add_files(path=val_ann_path, dataset_path='val/val_annotations')\n",
    "\n",
    "dataset.upload(compression=False)\n",
    "dataset.finalize()"
   ],
   "id": "88e004eb86e3bd31",
   "outputs": [
    {
     "name": "stderr",
     "output_type": "stream",
     "text": [
      "Exception encountered while uploading Failed uploading object SmallObjectDetection/.datasets/FOMO_SOD/FOMO_SOD.b50bcee8ee384194b4e9e0b0c5aad36b/artifacts/state/state.json to https://files.clear.ml (401): Jwt verification fails\n"
     ]
    },
    {
     "ename": "ValueError",
     "evalue": "Failed uploading object SmallObjectDetection/.datasets/FOMO_SOD/FOMO_SOD.b50bcee8ee384194b4e9e0b0c5aad36b/artifacts/state/state.json to https://files.clear.ml (401): Jwt verification fails",
     "output_type": "error",
     "traceback": [
      "\u001B[31m---------------------------------------------------------------------------\u001B[39m",
      "\u001B[31mValueError\u001B[39m                                Traceback (most recent call last)",
      "\u001B[36mCell\u001B[39m\u001B[36m \u001B[39m\u001B[32mIn[7]\u001B[39m\u001B[32m, line 3\u001B[39m\n\u001B[32m      1\u001B[39m \u001B[38;5;28;01mfrom\u001B[39;00m\u001B[38;5;250m \u001B[39m\u001B[34;01mclearml\u001B[39;00m\u001B[38;5;250m \u001B[39m\u001B[38;5;28;01mimport\u001B[39;00m Dataset\n\u001B[32m----> \u001B[39m\u001B[32m3\u001B[39m dataset = \u001B[43mDataset\u001B[49m\u001B[43m.\u001B[49m\u001B[43mcreate\u001B[49m\u001B[43m(\u001B[49m\n\u001B[32m      4\u001B[39m \u001B[43m    \u001B[49m\u001B[43mdataset_name\u001B[49m\u001B[43m=\u001B[49m\u001B[33;43m'\u001B[39;49m\u001B[33;43mFOMO_SOD\u001B[39;49m\u001B[33;43m'\u001B[39;49m\u001B[43m,\u001B[49m\n\u001B[32m      5\u001B[39m \u001B[43m    \u001B[49m\u001B[43mdataset_project\u001B[49m\u001B[43m=\u001B[49m\u001B[33;43m'\u001B[39;49m\u001B[33;43mSmallObjectDetection\u001B[39;49m\u001B[33;43m'\u001B[39;49m\u001B[43m,\u001B[49m\n\u001B[32m      6\u001B[39m \u001B[43m    \u001B[49m\u001B[43mdescription\u001B[49m\u001B[43m \u001B[49m\u001B[43m=\u001B[49m\u001B[43m \u001B[49m\u001B[33;43m'\u001B[39;49m\u001B[33;43mфото 224х224 кропнутые из открытого датасета MVA23 с COCO разметкой\u001B[39;49m\u001B[33;43m'\u001B[39;49m\n\u001B[32m      7\u001B[39m \u001B[43m)\u001B[49m\n\u001B[32m      9\u001B[39m train_path = \u001B[33mr\u001B[39m\u001B[33m'\u001B[39m\u001B[33mX:\u001B[39m\u001B[33m\\\u001B[39m\u001B[33mSOD\u001B[39m\u001B[33m\\\u001B[39m\u001B[33mMVA2023SmallObjectDetection4SpottingBirds\u001B[39m\u001B[33m\\\u001B[39m\u001B[33mdata\u001B[39m\u001B[33m\\\u001B[39m\u001B[33mmva2023_sod4bird_train_FOMO\u001B[39m\u001B[33m\\\u001B[39m\u001B[33mtrain\u001B[39m\u001B[33m\\\u001B[39m\u001B[33mimages\u001B[39m\u001B[33m'\u001B[39m\n\u001B[32m     10\u001B[39m train_ann_path = \u001B[33mr\u001B[39m\u001B[33m'\u001B[39m\u001B[33mX:\u001B[39m\u001B[33m\\\u001B[39m\u001B[33mSOD\u001B[39m\u001B[33m\\\u001B[39m\u001B[33mMVA2023SmallObjectDetection4SpottingBirds\u001B[39m\u001B[33m\\\u001B[39m\u001B[33mdata\u001B[39m\u001B[33m\\\u001B[39m\u001B[33mmva2023_sod4bird_train_FOMO\u001B[39m\u001B[33m\\\u001B[39m\u001B[33mmva23_FOMO_train.json\u001B[39m\u001B[33m'\u001B[39m\n",
      "\u001B[36mFile \u001B[39m\u001B[32m~\\AppData\\Local\\Programs\\Python\\Python313\\Lib\\site-packages\\clearml\\datasets\\dataset.py:1428\u001B[39m, in \u001B[36mDataset.create\u001B[39m\u001B[34m(cls, dataset_name, dataset_project, dataset_tags, parent_datasets, use_current_task, dataset_version, output_uri, description)\u001B[39m\n\u001B[32m   1426\u001B[39m instance._dependency_graph[instance._id] = [p._id \u001B[38;5;28;01mfor\u001B[39;00m p \u001B[38;5;129;01min\u001B[39;00m parent_datasets]\n\u001B[32m   1427\u001B[39m \u001B[38;5;66;03m# noinspection PyProtectedMember\u001B[39;00m\n\u001B[32m-> \u001B[39m\u001B[32m1428\u001B[39m \u001B[43minstance\u001B[49m\u001B[43m.\u001B[49m\u001B[43m_serialize\u001B[49m\u001B[43m(\u001B[49m\u001B[43m)\u001B[49m\n\u001B[32m   1429\u001B[39m \u001B[38;5;66;03m# noinspection PyProtectedMember\u001B[39;00m\n\u001B[32m   1430\u001B[39m instance._report_dataset_struct()\n",
      "\u001B[36mFile \u001B[39m\u001B[32m~\\AppData\\Local\\Programs\\Python\\Python313\\Lib\\site-packages\\clearml\\datasets\\dataset.py:2374\u001B[39m, in \u001B[36mDataset._serialize\u001B[39m\u001B[34m(self, update_dependency_chunk_lookup)\u001B[39m\n\u001B[32m   2358\u001B[39m preview = (\n\u001B[32m   2359\u001B[39m     \u001B[33m\"\u001B[39m\u001B[33mDataset state\u001B[39m\u001B[38;5;130;01m\\n\u001B[39;00m\u001B[33m\"\u001B[39m\n\u001B[32m   2360\u001B[39m     \u001B[33m\"\u001B[39m\u001B[33mFiles added/modified: \u001B[39m\u001B[38;5;132;01m{0}\u001B[39;00m\u001B[33m - total size \u001B[39m\u001B[38;5;132;01m{1}\u001B[39;00m\u001B[38;5;130;01m\\n\u001B[39;00m\u001B[33m\"\u001B[39m\n\u001B[32m   (...)\u001B[39m\u001B[32m   2370\u001B[39m     )\n\u001B[32m   2371\u001B[39m )\n\u001B[32m   2372\u001B[39m \u001B[38;5;66;03m# store as artifact of the Task and add the amount of files added or removed as metadata, so we can use those\u001B[39;00m\n\u001B[32m   2373\u001B[39m \u001B[38;5;66;03m# later to create the table\u001B[39;00m\n\u001B[32m-> \u001B[39m\u001B[32m2374\u001B[39m \u001B[38;5;28;43mself\u001B[39;49m\u001B[43m.\u001B[49m\u001B[43m_task\u001B[49m\u001B[43m.\u001B[49m\u001B[43mupload_artifact\u001B[49m\u001B[43m(\u001B[49m\n\u001B[32m   2375\u001B[39m \u001B[43m    \u001B[49m\u001B[43mname\u001B[49m\u001B[43m=\u001B[49m\u001B[38;5;28;43mself\u001B[39;49m\u001B[43m.\u001B[49m\u001B[43m__state_entry_name\u001B[49m\u001B[43m,\u001B[49m\n\u001B[32m   2376\u001B[39m \u001B[43m    \u001B[49m\u001B[43martifact_object\u001B[49m\u001B[43m=\u001B[49m\u001B[43mstate\u001B[49m\u001B[43m,\u001B[49m\n\u001B[32m   2377\u001B[39m \u001B[43m    \u001B[49m\u001B[43mpreview\u001B[49m\u001B[43m=\u001B[49m\u001B[43mpreview\u001B[49m\u001B[43m,\u001B[49m\n\u001B[32m   2378\u001B[39m \u001B[43m    \u001B[49m\u001B[43mwait_on_upload\u001B[49m\u001B[43m=\u001B[49m\u001B[38;5;28;43;01mTrue\u001B[39;49;00m\u001B[43m,\u001B[49m\n\u001B[32m   2379\u001B[39m \u001B[43m    \u001B[49m\u001B[43mmetadata\u001B[49m\u001B[43m=\u001B[49m\u001B[38;5;28;43mself\u001B[39;49m\u001B[43m.\u001B[49m\u001B[43mchanged_files\u001B[49m\u001B[43m,\u001B[49m\n\u001B[32m   2380\u001B[39m \u001B[43m\u001B[49m\u001B[43m)\u001B[49m\n\u001B[32m   2381\u001B[39m \u001B[38;5;28mself\u001B[39m._ds_total_size = total_size\n\u001B[32m   2382\u001B[39m \u001B[38;5;66;03m# noinspection PyProtectedMember\u001B[39;00m\n",
      "\u001B[36mFile \u001B[39m\u001B[32m~\\AppData\\Local\\Programs\\Python\\Python313\\Lib\\site-packages\\clearml\\task.py:2949\u001B[39m, in \u001B[36mTask.upload_artifact\u001B[39m\u001B[34m(self, name, artifact_object, metadata, delete_after_upload, auto_pickle, preview, wait_on_upload, extension_name, serialization_function, retries, sort_keys)\u001B[39m\n\u001B[32m   2945\u001B[39m         getLogger().warning(\n\u001B[32m   2946\u001B[39m             \u001B[33m\"\u001B[39m\u001B[33mFailed uploading artifact \u001B[39m\u001B[33m'\u001B[39m\u001B[38;5;132;01m{}\u001B[39;00m\u001B[33m'\u001B[39m\u001B[33m. Retrying... (\u001B[39m\u001B[38;5;132;01m{}\u001B[39;00m\u001B[33m/\u001B[39m\u001B[38;5;132;01m{}\u001B[39;00m\u001B[33m)\u001B[39m\u001B[33m\"\u001B[39m.format(name, retry + \u001B[32m1\u001B[39m, retries)\n\u001B[32m   2947\u001B[39m         )\n\u001B[32m   2948\u001B[39m \u001B[38;5;28;01mif\u001B[39;00m exception_to_raise:\n\u001B[32m-> \u001B[39m\u001B[32m2949\u001B[39m     \u001B[38;5;28;01mraise\u001B[39;00m exception_to_raise\n\u001B[32m   2950\u001B[39m \u001B[38;5;28;01mreturn\u001B[39;00m \u001B[38;5;28;01mFalse\u001B[39;00m\n",
      "\u001B[36mFile \u001B[39m\u001B[32m~\\AppData\\Local\\Programs\\Python\\Python313\\Lib\\site-packages\\clearml\\task.py:2929\u001B[39m, in \u001B[36mTask.upload_artifact\u001B[39m\u001B[34m(self, name, artifact_object, metadata, delete_after_upload, auto_pickle, preview, wait_on_upload, extension_name, serialization_function, retries, sort_keys)\u001B[39m\n\u001B[32m   2926\u001B[39m \u001B[38;5;28;01mfor\u001B[39;00m retry \u001B[38;5;129;01min\u001B[39;00m \u001B[38;5;28mrange\u001B[39m(retries + \u001B[32m1\u001B[39m):\n\u001B[32m   2927\u001B[39m     \u001B[38;5;66;03m# noinspection PyBroadException\u001B[39;00m\n\u001B[32m   2928\u001B[39m     \u001B[38;5;28;01mtry\u001B[39;00m:\n\u001B[32m-> \u001B[39m\u001B[32m2929\u001B[39m         \u001B[38;5;28;01mif\u001B[39;00m \u001B[38;5;28;43mself\u001B[39;49m\u001B[43m.\u001B[49m\u001B[43m_artifacts_manager\u001B[49m\u001B[43m.\u001B[49m\u001B[43mupload_artifact\u001B[49m\u001B[43m(\u001B[49m\n\u001B[32m   2930\u001B[39m \u001B[43m            \u001B[49m\u001B[43mname\u001B[49m\u001B[43m=\u001B[49m\u001B[43mname\u001B[49m\u001B[43m,\u001B[49m\n\u001B[32m   2931\u001B[39m \u001B[43m            \u001B[49m\u001B[43martifact_object\u001B[49m\u001B[43m=\u001B[49m\u001B[43martifact_object\u001B[49m\u001B[43m,\u001B[49m\n\u001B[32m   2932\u001B[39m \u001B[43m            \u001B[49m\u001B[43mmetadata\u001B[49m\u001B[43m=\u001B[49m\u001B[43mmetadata\u001B[49m\u001B[43m,\u001B[49m\n\u001B[32m   2933\u001B[39m \u001B[43m            \u001B[49m\u001B[43mdelete_after_upload\u001B[49m\u001B[43m=\u001B[49m\u001B[43mdelete_after_upload\u001B[49m\u001B[43m,\u001B[49m\n\u001B[32m   2934\u001B[39m \u001B[43m            \u001B[49m\u001B[43mauto_pickle\u001B[49m\u001B[43m=\u001B[49m\u001B[43mauto_pickle\u001B[49m\u001B[43m,\u001B[49m\n\u001B[32m   2935\u001B[39m \u001B[43m            \u001B[49m\u001B[43mpreview\u001B[49m\u001B[43m=\u001B[49m\u001B[43mpreview\u001B[49m\u001B[43m,\u001B[49m\n\u001B[32m   2936\u001B[39m \u001B[43m            \u001B[49m\u001B[43mwait_on_upload\u001B[49m\u001B[43m=\u001B[49m\u001B[43mwait_on_upload\u001B[49m\u001B[43m,\u001B[49m\n\u001B[32m   2937\u001B[39m \u001B[43m            \u001B[49m\u001B[43mextension_name\u001B[49m\u001B[43m=\u001B[49m\u001B[43mextension_name\u001B[49m\u001B[43m,\u001B[49m\n\u001B[32m   2938\u001B[39m \u001B[43m            \u001B[49m\u001B[43mserialization_function\u001B[49m\u001B[43m=\u001B[49m\u001B[43mserialization_function\u001B[49m\u001B[43m,\u001B[49m\n\u001B[32m   2939\u001B[39m \u001B[43m            \u001B[49m\u001B[43msort_keys\u001B[49m\u001B[43m=\u001B[49m\u001B[43msort_keys\u001B[49m\u001B[43m,\u001B[49m\n\u001B[32m   2940\u001B[39m \u001B[43m        \u001B[49m\u001B[43m)\u001B[49m:\n\u001B[32m   2941\u001B[39m             \u001B[38;5;28;01mreturn\u001B[39;00m \u001B[38;5;28;01mTrue\u001B[39;00m\n\u001B[32m   2942\u001B[39m     \u001B[38;5;28;01mexcept\u001B[39;00m \u001B[38;5;167;01mException\u001B[39;00m \u001B[38;5;28;01mas\u001B[39;00m e:\n",
      "\u001B[36mFile \u001B[39m\u001B[32m~\\AppData\\Local\\Programs\\Python\\Python313\\Lib\\site-packages\\clearml\\binding\\artifacts.py:861\u001B[39m, in \u001B[36mArtifacts.upload_artifact\u001B[39m\u001B[34m(self, name, artifact_object, metadata, preview, delete_after_upload, auto_pickle, wait_on_upload, extension_name, serialization_function, sort_keys)\u001B[39m\n\u001B[32m    858\u001B[39m     file_hash, _ = sha256sum(local_filename.as_posix(), block_size=Artifacts._hash_block_size)\n\u001B[32m    859\u001B[39m     file_size = local_filename.stat().st_size\n\u001B[32m--> \u001B[39m\u001B[32m861\u001B[39m     uri = \u001B[38;5;28;43mself\u001B[39;49m\u001B[43m.\u001B[49m\u001B[43m_upload_local_file\u001B[49m\u001B[43m(\u001B[49m\n\u001B[32m    862\u001B[39m \u001B[43m        \u001B[49m\u001B[43mlocal_filename\u001B[49m\u001B[43m,\u001B[49m\n\u001B[32m    863\u001B[39m \u001B[43m        \u001B[49m\u001B[43mname\u001B[49m\u001B[43m,\u001B[49m\n\u001B[32m    864\u001B[39m \u001B[43m        \u001B[49m\u001B[43mdelete_after_upload\u001B[49m\u001B[43m=\u001B[49m\u001B[43mdelete_after_upload\u001B[49m\u001B[43m,\u001B[49m\n\u001B[32m    865\u001B[39m \u001B[43m        \u001B[49m\u001B[43moverride_filename\u001B[49m\u001B[43m=\u001B[49m\u001B[43moverride_filename_in_uri\u001B[49m\u001B[43m,\u001B[49m\n\u001B[32m    866\u001B[39m \u001B[43m        \u001B[49m\u001B[43moverride_filename_ext\u001B[49m\u001B[43m=\u001B[49m\u001B[43moverride_filename_ext_in_uri\u001B[49m\u001B[43m,\u001B[49m\n\u001B[32m    867\u001B[39m \u001B[43m        \u001B[49m\u001B[43mwait_on_upload\u001B[49m\u001B[43m=\u001B[49m\u001B[43mwait_on_upload\u001B[49m\u001B[43m,\u001B[49m\n\u001B[32m    868\u001B[39m \u001B[43m    \u001B[49m\u001B[43m)\u001B[49m\n\u001B[32m    870\u001B[39m timestamp = \u001B[38;5;28mint\u001B[39m(time())\n\u001B[32m    872\u001B[39m artifact = tasks.Artifact(\n\u001B[32m    873\u001B[39m     key=name,\n\u001B[32m    874\u001B[39m     \u001B[38;5;28mtype\u001B[39m=artifact_type,\n\u001B[32m   (...)\u001B[39m\u001B[32m    880\u001B[39m     display_data=[(\u001B[38;5;28mstr\u001B[39m(k), \u001B[38;5;28mstr\u001B[39m(v)) \u001B[38;5;28;01mfor\u001B[39;00m k, v \u001B[38;5;129;01min\u001B[39;00m metadata.items()] \u001B[38;5;28;01mif\u001B[39;00m metadata \u001B[38;5;28;01melse\u001B[39;00m \u001B[38;5;28;01mNone\u001B[39;00m,\n\u001B[32m    881\u001B[39m )\n",
      "\u001B[36mFile \u001B[39m\u001B[32m~\\AppData\\Local\\Programs\\Python\\Python313\\Lib\\site-packages\\clearml\\binding\\artifacts.py:1062\u001B[39m, in \u001B[36mArtifacts._upload_local_file\u001B[39m\u001B[34m(self, local_file, name, delete_after_upload, override_filename, override_filename_ext, wait_on_upload)\u001B[39m\n\u001B[32m   1059\u001B[39m \u001B[38;5;66;03m# send for upload\u001B[39;00m\n\u001B[32m   1060\u001B[39m \u001B[38;5;66;03m# noinspection PyProtectedMember\u001B[39;00m\n\u001B[32m   1061\u001B[39m \u001B[38;5;28;01mif\u001B[39;00m wait_on_upload:\n\u001B[32m-> \u001B[39m\u001B[32m1062\u001B[39m     \u001B[43mStorageManager\u001B[49m\u001B[43m.\u001B[49m\u001B[43mupload_file\u001B[49m\u001B[43m(\u001B[49m\u001B[43mlocal_file\u001B[49m\u001B[43m.\u001B[49m\u001B[43mas_posix\u001B[49m\u001B[43m(\u001B[49m\u001B[43m)\u001B[49m\u001B[43m,\u001B[49m\u001B[43m \u001B[49m\u001B[43muri\u001B[49m\u001B[43m,\u001B[49m\u001B[43m \u001B[49m\u001B[43mwait_for_upload\u001B[49m\u001B[43m=\u001B[49m\u001B[38;5;28;43;01mTrue\u001B[39;49;00m\u001B[43m,\u001B[49m\u001B[43m \u001B[49m\u001B[43mretries\u001B[49m\u001B[43m=\u001B[49m\u001B[43mev\u001B[49m\u001B[43m.\u001B[49m\u001B[43mretries\u001B[49m\u001B[43m)\u001B[49m\n\u001B[32m   1063\u001B[39m     \u001B[38;5;28;01mif\u001B[39;00m delete_after_upload:\n\u001B[32m   1064\u001B[39m         \u001B[38;5;28;01mtry\u001B[39;00m:\n",
      "\u001B[36mFile \u001B[39m\u001B[32m~\\AppData\\Local\\Programs\\Python\\Python313\\Lib\\site-packages\\clearml\\storage\\manager.py:92\u001B[39m, in \u001B[36mStorageManager.upload_file\u001B[39m\u001B[34m(cls, local_file, remote_url, wait_for_upload, retries)\u001B[39m\n\u001B[32m     67\u001B[39m \u001B[38;5;129m@classmethod\u001B[39m\n\u001B[32m     68\u001B[39m \u001B[38;5;28;01mdef\u001B[39;00m\u001B[38;5;250m \u001B[39m\u001B[34mupload_file\u001B[39m(\n\u001B[32m     69\u001B[39m     \u001B[38;5;28mcls\u001B[39m,\n\u001B[32m   (...)\u001B[39m\u001B[32m     73\u001B[39m     retries: Optional[\u001B[38;5;28mint\u001B[39m] = \u001B[38;5;28;01mNone\u001B[39;00m,\n\u001B[32m     74\u001B[39m ) -> \u001B[38;5;28mstr\u001B[39m:\n\u001B[32m     75\u001B[39m \u001B[38;5;250m    \u001B[39m\u001B[33;03m\"\"\"\u001B[39;00m\n\u001B[32m     76\u001B[39m \u001B[33;03m    Upload a local file to a remote location. remote url is the final destination of the uploaded file.\u001B[39;00m\n\u001B[32m     77\u001B[39m \n\u001B[32m   (...)\u001B[39m\u001B[32m     90\u001B[39m \u001B[33;03m    :return: Newly uploaded remote URL.\u001B[39;00m\n\u001B[32m     91\u001B[39m \u001B[33;03m    \"\"\"\u001B[39;00m\n\u001B[32m---> \u001B[39m\u001B[32m92\u001B[39m     \u001B[38;5;28;01mreturn\u001B[39;00m \u001B[43mCacheManager\u001B[49m\u001B[43m.\u001B[49m\u001B[43mget_cache_manager\u001B[49m\u001B[43m(\u001B[49m\u001B[43m)\u001B[49m\u001B[43m.\u001B[49m\u001B[43mupload_file\u001B[49m\u001B[43m(\u001B[49m\n\u001B[32m     93\u001B[39m \u001B[43m        \u001B[49m\u001B[43mlocal_file\u001B[49m\u001B[43m=\u001B[49m\u001B[43mlocal_file\u001B[49m\u001B[43m,\u001B[49m\n\u001B[32m     94\u001B[39m \u001B[43m        \u001B[49m\u001B[43mremote_url\u001B[49m\u001B[43m=\u001B[49m\u001B[43mremote_url\u001B[49m\u001B[43m,\u001B[49m\n\u001B[32m     95\u001B[39m \u001B[43m        \u001B[49m\u001B[43mwait_for_upload\u001B[49m\u001B[43m=\u001B[49m\u001B[43mwait_for_upload\u001B[49m\u001B[43m,\u001B[49m\n\u001B[32m     96\u001B[39m \u001B[43m        \u001B[49m\u001B[43mretries\u001B[49m\u001B[43m=\u001B[49m\u001B[43mretries\u001B[49m\u001B[43m \u001B[49m\u001B[38;5;28;43;01mif\u001B[39;49;00m\u001B[43m \u001B[49m\u001B[43mretries\u001B[49m\u001B[43m \u001B[49m\u001B[38;5;28;43;01melse\u001B[39;49;00m\u001B[43m \u001B[49m\u001B[38;5;28;43mcls\u001B[39;49m\u001B[43m.\u001B[49m\u001B[43m_file_upload_retries\u001B[49m\u001B[43m,\u001B[49m\n\u001B[32m     97\u001B[39m \u001B[43m    \u001B[49m\u001B[43m)\u001B[49m\n",
      "\u001B[36mFile \u001B[39m\u001B[32m~\\AppData\\Local\\Programs\\Python\\Python313\\Lib\\site-packages\\clearml\\storage\\cache.py:98\u001B[39m, in \u001B[36mCacheManager.CacheContext.upload_file\u001B[39m\u001B[34m(local_file, remote_url, wait_for_upload, retries)\u001B[39m\n\u001B[32m     90\u001B[39m \u001B[38;5;129m@staticmethod\u001B[39m\n\u001B[32m     91\u001B[39m \u001B[38;5;28;01mdef\u001B[39;00m\u001B[38;5;250m \u001B[39m\u001B[34mupload_file\u001B[39m(\n\u001B[32m     92\u001B[39m     local_file: \u001B[38;5;28mstr\u001B[39m,\n\u001B[32m   (...)\u001B[39m\u001B[32m     95\u001B[39m     retries: \u001B[38;5;28mint\u001B[39m = \u001B[32m3\u001B[39m,\n\u001B[32m     96\u001B[39m ) -> Optional[\u001B[38;5;28mstr\u001B[39m]:\n\u001B[32m     97\u001B[39m     helper = StorageHelper.get(remote_url)\n\u001B[32m---> \u001B[39m\u001B[32m98\u001B[39m     result = \u001B[43mhelper\u001B[49m\u001B[43m.\u001B[49m\u001B[43mupload\u001B[49m\u001B[43m(\u001B[49m\n\u001B[32m     99\u001B[39m \u001B[43m        \u001B[49m\u001B[43mlocal_file\u001B[49m\u001B[43m,\u001B[49m\n\u001B[32m    100\u001B[39m \u001B[43m        \u001B[49m\u001B[43mremote_url\u001B[49m\u001B[43m,\u001B[49m\n\u001B[32m    101\u001B[39m \u001B[43m        \u001B[49m\u001B[43masync_enable\u001B[49m\u001B[43m=\u001B[49m\u001B[38;5;129;43;01mnot\u001B[39;49;00m\u001B[43m \u001B[49m\u001B[43mwait_for_upload\u001B[49m\u001B[43m,\u001B[49m\n\u001B[32m    102\u001B[39m \u001B[43m        \u001B[49m\u001B[43mretries\u001B[49m\u001B[43m=\u001B[49m\u001B[43mretries\u001B[49m\u001B[43m,\u001B[49m\n\u001B[32m    103\u001B[39m \u001B[43m    \u001B[49m\u001B[43m)\u001B[49m\n\u001B[32m    104\u001B[39m     CacheManager._add_remote_url(remote_url, local_file)\n\u001B[32m    105\u001B[39m     \u001B[38;5;28;01mreturn\u001B[39;00m result\n",
      "\u001B[36mFile \u001B[39m\u001B[32m~\\AppData\\Local\\Programs\\Python\\Python313\\Lib\\site-packages\\clearml\\storage\\helper.py:2946\u001B[39m, in \u001B[36mStorageHelper.upload\u001B[39m\u001B[34m(self, src_path, dest_path, extra, async_enable, cb, retries, return_canonized)\u001B[39m\n\u001B[32m   2944\u001B[39m     \u001B[38;5;28;01mreturn\u001B[39;00m StorageHelper._upload_pool.apply_async(\u001B[38;5;28mself\u001B[39m._do_async_upload, args=(data,))\n\u001B[32m   2945\u001B[39m \u001B[38;5;28;01melse\u001B[39;00m:\n\u001B[32m-> \u001B[39m\u001B[32m2946\u001B[39m     res = \u001B[38;5;28;43mself\u001B[39;49m\u001B[43m.\u001B[49m\u001B[43m_do_upload\u001B[49m\u001B[43m(\u001B[49m\n\u001B[32m   2947\u001B[39m \u001B[43m        \u001B[49m\u001B[43msrc_path\u001B[49m\u001B[43m=\u001B[49m\u001B[43msrc_path\u001B[49m\u001B[43m,\u001B[49m\n\u001B[32m   2948\u001B[39m \u001B[43m        \u001B[49m\u001B[43mdest_path\u001B[49m\u001B[43m=\u001B[49m\u001B[43mdest_path\u001B[49m\u001B[43m,\u001B[49m\n\u001B[32m   2949\u001B[39m \u001B[43m        \u001B[49m\u001B[43mcanonized_dest_path\u001B[49m\u001B[43m=\u001B[49m\u001B[43mcanonized_dest_path\u001B[49m\u001B[43m,\u001B[49m\n\u001B[32m   2950\u001B[39m \u001B[43m        \u001B[49m\u001B[43mextra\u001B[49m\u001B[43m=\u001B[49m\u001B[43mextra\u001B[49m\u001B[43m,\u001B[49m\n\u001B[32m   2951\u001B[39m \u001B[43m        \u001B[49m\u001B[43mcb\u001B[49m\u001B[43m=\u001B[49m\u001B[43mcb\u001B[49m\u001B[43m,\u001B[49m\n\u001B[32m   2952\u001B[39m \u001B[43m        \u001B[49m\u001B[43mverbose\u001B[49m\u001B[43m=\u001B[49m\u001B[38;5;28;43;01mFalse\u001B[39;49;00m\u001B[43m,\u001B[49m\n\u001B[32m   2953\u001B[39m \u001B[43m        \u001B[49m\u001B[43mretries\u001B[49m\u001B[43m=\u001B[49m\u001B[43mretries\u001B[49m\u001B[43m,\u001B[49m\n\u001B[32m   2954\u001B[39m \u001B[43m        \u001B[49m\u001B[43mreturn_canonized\u001B[49m\u001B[43m=\u001B[49m\u001B[43mreturn_canonized\u001B[49m\u001B[43m,\u001B[49m\n\u001B[32m   2955\u001B[39m \u001B[43m    \u001B[49m\u001B[43m)\u001B[49m\n\u001B[32m   2956\u001B[39m     \u001B[38;5;28;01mif\u001B[39;00m res:\n\u001B[32m   2957\u001B[39m         result_path = quote_url(result_path, StorageHelper._quotable_uri_schemes)\n",
      "\u001B[36mFile \u001B[39m\u001B[32m~\\AppData\\Local\\Programs\\Python\\Python313\\Lib\\site-packages\\clearml\\storage\\helper.py:3449\u001B[39m, in \u001B[36mStorageHelper._do_upload\u001B[39m\u001B[34m(self, src_path, dest_path, canonized_dest_path, extra, cb, verbose, retries, return_canonized)\u001B[39m\n\u001B[32m   3447\u001B[39m         \u001B[38;5;28;01mexcept\u001B[39;00m \u001B[38;5;167;01mException\u001B[39;00m \u001B[38;5;28;01mas\u001B[39;00m e:\n\u001B[32m   3448\u001B[39m             \u001B[38;5;28mself\u001B[39m._log.warning(\u001B[33m\"\u001B[39m\u001B[33mException on upload callback: \u001B[39m\u001B[38;5;132;01m%s\u001B[39;00m\u001B[33m\"\u001B[39m % \u001B[38;5;28mstr\u001B[39m(e))\n\u001B[32m-> \u001B[39m\u001B[32m3449\u001B[39m     \u001B[38;5;28;01mraise\u001B[39;00m last_ex\n\u001B[32m   3451\u001B[39m \u001B[38;5;28;01mif\u001B[39;00m verbose:\n\u001B[32m   3452\u001B[39m     \u001B[38;5;28mself\u001B[39m._log.debug(\u001B[33m\"\u001B[39m\u001B[33mFinished upload: \u001B[39m\u001B[38;5;132;01m%s\u001B[39;00m\u001B[33m => \u001B[39m\u001B[38;5;132;01m%s\u001B[39;00m\u001B[33m\"\u001B[39m % (src_path, object_name))\n",
      "\u001B[36mFile \u001B[39m\u001B[32m~\\AppData\\Local\\Programs\\Python\\Python313\\Lib\\site-packages\\clearml\\storage\\helper.py:3433\u001B[39m, in \u001B[36mStorageHelper._do_upload\u001B[39m\u001B[34m(self, src_path, dest_path, canonized_dest_path, extra, cb, verbose, retries, return_canonized)\u001B[39m\n\u001B[32m   3431\u001B[39m \u001B[38;5;28;01mfor\u001B[39;00m i \u001B[38;5;129;01min\u001B[39;00m \u001B[38;5;28mrange\u001B[39m(\u001B[38;5;28mmax\u001B[39m(\u001B[32m1\u001B[39m, \u001B[38;5;28mint\u001B[39m(retries))):\n\u001B[32m   3432\u001B[39m     \u001B[38;5;28;01mtry\u001B[39;00m:\n\u001B[32m-> \u001B[39m\u001B[32m3433\u001B[39m         \u001B[38;5;28;01mif\u001B[39;00m \u001B[38;5;129;01mnot\u001B[39;00m \u001B[38;5;28;43mself\u001B[39;49m\u001B[43m.\u001B[49m\u001B[43m_upload_from_file\u001B[49m\u001B[43m(\u001B[49m\u001B[43mlocal_path\u001B[49m\u001B[43m=\u001B[49m\u001B[43msrc_path\u001B[49m\u001B[43m,\u001B[49m\u001B[43m \u001B[49m\u001B[43mdest_path\u001B[49m\u001B[43m=\u001B[49m\u001B[43mcanonized_dest_path\u001B[49m\u001B[43m,\u001B[49m\u001B[43m \u001B[49m\u001B[43mextra\u001B[49m\u001B[43m=\u001B[49m\u001B[43mextra\u001B[49m\u001B[43m)\u001B[49m:\n\u001B[32m   3434\u001B[39m             \u001B[38;5;66;03m# retry if failed\u001B[39;00m\n\u001B[32m   3435\u001B[39m             last_ex = \u001B[38;5;167;01mValueError\u001B[39;00m(\u001B[33m\"\u001B[39m\u001B[33mUpload failed\u001B[39m\u001B[33m\"\u001B[39m)\n\u001B[32m   3436\u001B[39m             \u001B[38;5;28;01mcontinue\u001B[39;00m\n",
      "\u001B[36mFile \u001B[39m\u001B[32m~\\AppData\\Local\\Programs\\Python\\Python313\\Lib\\site-packages\\clearml\\storage\\helper.py:3390\u001B[39m, in \u001B[36mStorageHelper._upload_from_file\u001B[39m\u001B[34m(self, local_path, dest_path, extra)\u001B[39m\n\u001B[32m   3388\u001B[39m extra.update(\u001B[38;5;28mself\u001B[39m._extra)\n\u001B[32m   3389\u001B[39m cb = UploadProgressReport.from_file(local_path, \u001B[38;5;28mself\u001B[39m._verbose, \u001B[38;5;28mself\u001B[39m._log)\n\u001B[32m-> \u001B[39m\u001B[32m3390\u001B[39m res = \u001B[38;5;28;43mself\u001B[39;49m\u001B[43m.\u001B[49m\u001B[43m_driver\u001B[49m\u001B[43m.\u001B[49m\u001B[43mupload_object\u001B[49m\u001B[43m(\u001B[49m\n\u001B[32m   3391\u001B[39m \u001B[43m    \u001B[49m\u001B[43mfile_path\u001B[49m\u001B[43m=\u001B[49m\u001B[43mlocal_path\u001B[49m\u001B[43m,\u001B[49m\n\u001B[32m   3392\u001B[39m \u001B[43m    \u001B[49m\u001B[43mcontainer\u001B[49m\u001B[43m=\u001B[49m\u001B[38;5;28;43mself\u001B[39;49m\u001B[43m.\u001B[49m\u001B[43m_container\u001B[49m\u001B[43m,\u001B[49m\n\u001B[32m   3393\u001B[39m \u001B[43m    \u001B[49m\u001B[43mobject_name\u001B[49m\u001B[43m=\u001B[49m\u001B[43mobject_name\u001B[49m\u001B[43m,\u001B[49m\n\u001B[32m   3394\u001B[39m \u001B[43m    \u001B[49m\u001B[43mcallback\u001B[49m\u001B[43m=\u001B[49m\u001B[43mcb\u001B[49m\u001B[43m,\u001B[49m\n\u001B[32m   3395\u001B[39m \u001B[43m    \u001B[49m\u001B[43mextra\u001B[49m\u001B[43m=\u001B[49m\u001B[43mextra\u001B[49m\u001B[43m,\u001B[49m\n\u001B[32m   3396\u001B[39m \u001B[43m\u001B[49m\u001B[43m)\u001B[49m\n\u001B[32m   3397\u001B[39m \u001B[38;5;28;01mif\u001B[39;00m cb:\n\u001B[32m   3398\u001B[39m     cb.close()\n",
      "\u001B[36mFile \u001B[39m\u001B[32m~\\AppData\\Local\\Programs\\Python\\Python313\\Lib\\site-packages\\clearml\\storage\\helper.py:431\u001B[39m, in \u001B[36m_HttpDriver.upload_object\u001B[39m\u001B[34m(self, file_path, container, object_name, extra, callback, **kwargs)\u001B[39m\n\u001B[32m    421\u001B[39m \u001B[38;5;28;01mdef\u001B[39;00m\u001B[38;5;250m \u001B[39m\u001B[34mupload_object\u001B[39m(\n\u001B[32m    422\u001B[39m     \u001B[38;5;28mself\u001B[39m,\n\u001B[32m    423\u001B[39m     file_path: \u001B[38;5;28mstr\u001B[39m,\n\u001B[32m   (...)\u001B[39m\u001B[32m    428\u001B[39m     **kwargs: Any,\n\u001B[32m    429\u001B[39m ) -> Any:\n\u001B[32m    430\u001B[39m     \u001B[38;5;28;01mwith\u001B[39;00m \u001B[38;5;28mopen\u001B[39m(file_path, \u001B[33m\"\u001B[39m\u001B[33mrb\u001B[39m\u001B[33m\"\u001B[39m) \u001B[38;5;28;01mas\u001B[39;00m stream:\n\u001B[32m--> \u001B[39m\u001B[32m431\u001B[39m         \u001B[38;5;28;01mreturn\u001B[39;00m \u001B[38;5;28;43mself\u001B[39;49m\u001B[43m.\u001B[49m\u001B[43mupload_object_via_stream\u001B[49m\u001B[43m(\u001B[49m\n\u001B[32m    432\u001B[39m \u001B[43m            \u001B[49m\u001B[43miterator\u001B[49m\u001B[43m=\u001B[49m\u001B[43mstream\u001B[49m\u001B[43m,\u001B[49m\n\u001B[32m    433\u001B[39m \u001B[43m            \u001B[49m\u001B[43mcontainer\u001B[49m\u001B[43m=\u001B[49m\u001B[43mcontainer\u001B[49m\u001B[43m,\u001B[49m\n\u001B[32m    434\u001B[39m \u001B[43m            \u001B[49m\u001B[43mobject_name\u001B[49m\u001B[43m=\u001B[49m\u001B[43mobject_name\u001B[49m\u001B[43m,\u001B[49m\n\u001B[32m    435\u001B[39m \u001B[43m            \u001B[49m\u001B[43mextra\u001B[49m\u001B[43m=\u001B[49m\u001B[43mextra\u001B[49m\u001B[43m,\u001B[49m\n\u001B[32m    436\u001B[39m \u001B[43m            \u001B[49m\u001B[43mcallback\u001B[49m\u001B[43m=\u001B[49m\u001B[43mcallback\u001B[49m\u001B[43m,\u001B[49m\n\u001B[32m    437\u001B[39m \u001B[43m            \u001B[49m\u001B[43m*\u001B[49m\u001B[43m*\u001B[49m\u001B[43mkwargs\u001B[49m\u001B[43m,\u001B[49m\n\u001B[32m    438\u001B[39m \u001B[43m        \u001B[49m\u001B[43m)\u001B[49m\n",
      "\u001B[36mFile \u001B[39m\u001B[32m~\\AppData\\Local\\Programs\\Python\\Python313\\Lib\\site-packages\\clearml\\storage\\helper.py:328\u001B[39m, in \u001B[36m_HttpDriver.upload_object_via_stream\u001B[39m\u001B[34m(self, iterator, container, object_name, extra, callback, **kwargs)\u001B[39m\n\u001B[32m    326\u001B[39m res = container.session.post(url, data=m, timeout=timeout, headers=headers)\n\u001B[32m    327\u001B[39m \u001B[38;5;28;01mif\u001B[39;00m res.status_code != requests.codes.ok:\n\u001B[32m--> \u001B[39m\u001B[32m328\u001B[39m     \u001B[38;5;28;01mraise\u001B[39;00m \u001B[38;5;167;01mValueError\u001B[39;00m(\u001B[33m\"\u001B[39m\u001B[33mFailed uploading object \u001B[39m\u001B[38;5;132;01m{}\u001B[39;00m\u001B[33m to \u001B[39m\u001B[38;5;132;01m{}\u001B[39;00m\u001B[33m (\u001B[39m\u001B[38;5;132;01m{}\u001B[39;00m\u001B[33m): \u001B[39m\u001B[38;5;132;01m{}\u001B[39;00m\u001B[33m\"\u001B[39m.format(\n\u001B[32m    329\u001B[39m         object_name, url, res.status_code, res.text))\n\u001B[32m    331\u001B[39m \u001B[38;5;66;03m# call back is useless because we are not calling it while uploading...\u001B[39;00m\n\u001B[32m    332\u001B[39m \u001B[38;5;28;01mreturn\u001B[39;00m res\n",
      "\u001B[31mValueError\u001B[39m: Failed uploading object SmallObjectDetection/.datasets/FOMO_SOD/FOMO_SOD.b50bcee8ee384194b4e9e0b0c5aad36b/artifacts/state/state.json to https://files.clear.ml (401): Jwt verification fails"
     ]
    }
   ],
   "execution_count": 7
  }
 ],
 "metadata": {
  "kernelspec": {
   "display_name": "Python 3",
   "language": "python",
   "name": "python3"
  },
  "language_info": {
   "codemirror_mode": {
    "name": "ipython",
    "version": 2
   },
   "file_extension": ".py",
   "mimetype": "text/x-python",
   "name": "python",
   "nbconvert_exporter": "python",
   "pygments_lexer": "ipython2",
   "version": "2.7.6"
  }
 },
 "nbformat": 4,
 "nbformat_minor": 5
}
