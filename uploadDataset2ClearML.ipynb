{
 "cells": [
  {
   "metadata": {},
   "cell_type": "markdown",
   "source": "# Облако",
   "id": "8dbe8595117b5a01"
  },
  {
   "cell_type": "code",
   "execution_count": null,
   "id": "initial_id",
   "metadata": {
    "collapsed": true
   },
   "outputs": [],
   "source": [
    "\n",
    "%env CLEARML_WEB_HOST=https://app.clear.ml/\n",
    "%env CLEARML_API_HOST=https://api.clear.ml\n",
    "%env CLEARML_FILES_HOST=https://files.clear.ml\n",
    "%env CLEARML_API_ACCESS_KEY=UYT7CN4QVOORGQHYBKIC17B9SQUWOP\n",
    "%env CLEARML_API_SECRET_KEY=L06BUQ4bFm7nNmd3wHK-kDmC0H6i7HnYqKAOGaKuCCF3cCEi1FTJTGh0dABiOgCQY8c"
   ]
  },
  {
   "metadata": {},
   "cell_type": "markdown",
   "source": "# Локальный сервер",
   "id": "b48372555f91202c"
  },
  {
   "metadata": {
    "ExecuteTime": {
     "end_time": "2025-09-18T08:53:16.946246Z",
     "start_time": "2025-09-18T08:53:16.943070Z"
    }
   },
   "cell_type": "code",
   "source": [
    "%env CLEARML_WEB_HOST=http://clearml.neuro.pro/\n",
    "%env CLEARML_API_HOST=http://clearml.neuro.pro:8008\n",
    "# %env CLEARML_FILES_HOST=https://files.clear.ml\n",
    "%env CLEARML_API_ACCESS_KEY=FCIPBUK4NYRADK02Y27SEK99P112ZT\n",
    "%env CLEARML_API_SECRET_KEY=QfZqkM8zpiMazccdd_EQJM3qp_F-1owW8OVJgef2fnoBCutVHWoVkN9hWxtvsAuKGSQ"
   ],
   "id": "a3358f24805cf354",
   "outputs": [
    {
     "name": "stdout",
     "output_type": "stream",
     "text": [
      "env: CLEARML_WEB_HOST=http://clearml.neuro.pro/\n",
      "env: CLEARML_API_HOST=http://clearml.neuro.pro:8008\n",
      "env: CLEARML_API_ACCESS_KEY=FCIPBUK4NYRADK02Y27SEK99P112ZT\n",
      "env: CLEARML_API_SECRET_KEY=QfZqkM8zpiMazccdd_EQJM3qp_F-1owW8OVJgef2fnoBCutVHWoVkN9hWxtvsAuKGSQ\n"
     ]
    }
   ],
   "execution_count": 1
  },
  {
   "metadata": {
    "ExecuteTime": {
     "end_time": "2025-09-18T08:58:54.739362Z",
     "start_time": "2025-09-18T08:58:54.735916Z"
    }
   },
   "cell_type": "code",
   "source": [
    "%env CLEARML_WEB_HOST=http://neuro.kbl-kr.ru/\n",
    "%env CLEARML_API_HOST=http://neuro.kbl-kr.ru:8008\n",
    "# %env CLEARML_FILES_HOST=https://files.clear.ml\n",
    "%env CLEARML_API_ACCESS_KEY=W5GHI79KG5PVRRULKY63CK9154OTXB\n",
    "%env CLEARML_API_SECRET_KEY=LL1OCfgO714o693AuAUfEHX9QWUnQ9n-h8en8EbD6oJpa8f8uPCWjXzzvOaaBNCu0h4"
   ],
   "id": "e3fab0635ab37c57",
   "outputs": [
    {
     "name": "stdout",
     "output_type": "stream",
     "text": [
      "env: CLEARML_WEB_HOST=http://neuro.kbl-kr.ru/\n",
      "env: CLEARML_API_HOST=http://neuro.kbl-kr.ru:8008\n",
      "env: CLEARML_API_ACCESS_KEY=W5GHI79KG5PVRRULKY63CK9154OTXB\n",
      "env: CLEARML_API_SECRET_KEY=LL1OCfgO714o693AuAUfEHX9QWUnQ9n-h8en8EbD6oJpa8f8uPCWjXzzvOaaBNCu0h4\n"
     ]
    }
   ],
   "execution_count": 8
  },
  {
   "metadata": {},
   "cell_type": "markdown",
   "source": "# загрузка датасета",
   "id": "cbb360dd955305d4"
  },
  {
   "metadata": {
    "ExecuteTime": {
     "end_time": "2025-10-15T18:43:04.082304Z",
     "start_time": "2025-10-15T18:40:11.588053Z"
    }
   },
   "cell_type": "code",
   "source": [
    "from clearml import Dataset\n",
    "\n",
    "project_name = \"SmallObjectDetection\"\n",
    "dataset_name = \"drones_only_FOMO\"\n",
    "\n",
    "# Находим предыдущую версию датасета (если есть)\n",
    "try:\n",
    "    previous_dataset = Dataset.get(\n",
    "        dataset_project=project_name,\n",
    "        dataset_name=dataset_name\n",
    "    )\n",
    "    # Создаем новую версию\n",
    "    dataset = Dataset.create(\n",
    "        dataset_project=project_name,\n",
    "        dataset_name=dataset_name,\n",
    "        parent_datasets=[previous_dataset.id] if previous_dataset else None,\n",
    "        description='+5000 background файлов с городом'\n",
    "    )\n",
    "except Exception as e:\n",
    "    # Если датасет не существует, создаем новый\n",
    "    print(e)\n",
    "    # dataset = Dataset.create(\n",
    "    #     dataset_project=project_name,\n",
    "    #     dataset_name=dataset_name\n",
    "    # )\n",
    "\n",
    "train_path = r'C:\\Users\\ILYA\\.clearml\\cache\\storage_manager\\datasets\\drones only fomo city background\\train\\images'\n",
    "train_ann_path = r'C:\\Users\\ILYA\\.clearml\\cache\\storage_manager\\datasets\\drones only fomo city background\\train\\train_annotations.json'\n",
    "dataset.add_files(path=train_path, dataset_path='train/images')\n",
    "dataset.add_files(path=train_ann_path, dataset_path='train')\n",
    "\n",
    "val_path = r'C:\\Users\\ILYA\\.clearml\\cache\\storage_manager\\datasets\\drones only fomo city background\\val\\images'\n",
    "val_ann_path = r'C:\\Users\\ILYA\\.clearml\\cache\\storage_manager\\datasets\\drones only fomo city background\\val\\val_annotations.json'\n",
    "dataset.add_files(path=val_path, dataset_path='val/images')\n",
    "dataset.add_files(path=val_ann_path, dataset_path='val')\n",
    "\n",
    "dataset.upload(compression=False)\n",
    "dataset.finalize()"
   ],
   "id": "88e004eb86e3bd31",
   "outputs": [
    {
     "name": "stderr",
     "output_type": "stream",
     "text": [
      "█████████████████████████████████ 100% | 5.11/5.11 MB [00:00<00:00, 45.09MB/s]: \n"
     ]
    },
    {
     "name": "stdout",
     "output_type": "stream",
     "text": [
      "ClearML results page: http://neuro.kbl-kr.ru/projects/2359c32ffb484ef88a4592cae9c5afcd/experiments/54a2a3bf4b814f6780c5e1045f2b24ec/output/log\n",
      "ClearML dataset page: http://neuro.kbl-kr.ru/datasets/simple/2359c32ffb484ef88a4592cae9c5afcd/experiments/54a2a3bf4b814f6780c5e1045f2b24ec\n",
      "Generating SHA2 hash for 16794 files\n"
     ]
    },
    {
     "name": "stderr",
     "output_type": "stream",
     "text": [
      "100%|██████████| 16794/16794 [00:07<00:00, 2187.98it/s]\n"
     ]
    },
    {
     "name": "stdout",
     "output_type": "stream",
     "text": [
      "Hash generation completed\n"
     ]
    },
    {
     "name": "stderr",
     "output_type": "stream",
     "text": [
      "█████████████████████████████████ 100% | 7.77/7.77 MB [00:00<00:00, 14.07MB/s]: \n",
      "█████████████████████████████████ 100% | 7.77/7.77 MB [00:00<00:00, 12.65MB/s]: \n"
     ]
    },
    {
     "name": "stdout",
     "output_type": "stream",
     "text": [
      "Generating SHA2 hash for 4844 files\n"
     ]
    },
    {
     "name": "stderr",
     "output_type": "stream",
     "text": [
      "100%|██████████| 4844/4844 [00:01<00:00, 3638.23it/s]\n"
     ]
    },
    {
     "name": "stdout",
     "output_type": "stream",
     "text": [
      "Hash generation completed\n"
     ]
    },
    {
     "name": "stderr",
     "output_type": "stream",
     "text": [
      "█████████████████████████████████ 100% | 7.77/7.77 MB [00:00<00:00, 18.32MB/s]: \n",
      "█████████████████████████████████ 100% | 7.77/7.77 MB [00:00<00:00, 18.65MB/s]: \n"
     ]
    },
    {
     "name": "stdout",
     "output_type": "stream",
     "text": [
      "Uploading dataset changes (2738 files compressed to 427.51 MiB) to http://neuro.kbl-kr.ru:8081\n"
     ]
    },
    {
     "name": "stderr",
     "output_type": "stream",
     "text": [
      "█████████████████████████████████ 100% | 7.32/7.32 MB [00:00<00:00, 18.29MB/s]: \n"
     ]
    },
    {
     "name": "stdout",
     "output_type": "stream",
     "text": [
      "Uploading dataset changes (2743 files compressed to 429.44 MiB) to http://neuro.kbl-kr.ru:8081\n"
     ]
    },
    {
     "name": "stderr",
     "output_type": "stream",
     "text": [
      "▋                                2% | 10.00/427.51 MB [00:01<00:57,  7.32MB/s]: \n",
      "                                            0% | 0.00/6.89 MB [00:00<?, ?MB/s]: \u001B[A\n",
      "█████████████████████████████████ 100% | 6.89/6.89 MB [00:00<00:00, 12.63MB/s]: \u001B[A\n",
      "█▍                               5% | 20.00/427.51 MB [00:03<01:29,  4.56MB/s]: \n",
      "█▊                               6% | 25.00/427.51 MB [00:05<01:37,  4.15MB/s]: \u001B[A\n",
      "██                               7% | 30.00/427.51 MB [00:06<01:35,  4.17MB/s]: \u001B[A\n",
      "██▍                              8% | 35.00/427.51 MB [00:07<01:34,  4.17MB/s]: \u001B[A\n",
      "██▊                              9% | 40.00/427.51 MB [00:08<01:31,  4.21MB/s]: \u001B[A\n",
      "███▏                            11% | 45.00/427.51 MB [00:10<01:37,  3.92MB/s]: \u001B[A\n",
      "███▌                            12% | 50.00/427.51 MB [00:11<01:33,  4.06MB/s]: \u001B[A\n",
      "███▊                            13% | 55.00/427.51 MB [00:12<01:31,  4.05MB/s]: \u001B[A\n",
      "████▏                           14% | 60.00/427.51 MB [00:14<01:31,  4.03MB/s]: \u001B[A\n",
      "████▌                           15% | 65.00/427.51 MB [00:15<01:25,  4.24MB/s]: \u001B[A\n",
      "████▉                           16% | 70.00/427.51 MB [00:16<01:27,  4.11MB/s]: \u001B[A\n",
      "█████▎                          18% | 75.00/427.51 MB [00:17<01:28,  4.00MB/s]: \u001B[A\n",
      "█████▌                          19% | 80.00/427.51 MB [00:18<01:25,  4.09MB/s]: \u001B[A\n",
      "█████▉                          20% | 85.00/427.51 MB [00:19<01:21,  4.19MB/s]: \u001B[A\n",
      "██████▎                         21% | 90.00/427.51 MB [00:21<01:32,  3.65MB/s]: \u001B[A\n",
      "██████▋                         22% | 95.00/427.51 MB [00:22<01:25,  3.89MB/s]: \u001B[A\n",
      "██████▊                        23% | 100.00/427.51 MB [00:23<01:19,  4.10MB/s]: \u001B[A\n",
      "███████                        25% | 105.00/427.51 MB [00:25<01:16,  4.21MB/s]: \u001B[A\n",
      "███████▍                       26% | 110.00/427.51 MB [00:26<01:17,  4.07MB/s]: \u001B[A\n",
      "███████▊                       27% | 115.00/427.51 MB [00:27<01:13,  4.26MB/s]: \u001B[A\n",
      "████████▏                      28% | 120.00/427.51 MB [00:28<01:17,  3.98MB/s]: \u001B[A\n",
      "████████▍                      29% | 125.00/427.51 MB [00:29<01:13,  4.13MB/s]: \u001B[A\n",
      "████████▊                      30% | 130.00/427.51 MB [00:31<01:11,  4.13MB/s]: \u001B[A\n",
      "█████████▏                     32% | 135.00/427.51 MB [00:32<01:11,  4.09MB/s]: \u001B[A\n",
      "█████████▍                     33% | 140.00/427.51 MB [00:33<01:15,  3.83MB/s]: \u001B[A\n",
      "█████████▊                     34% | 145.00/427.51 MB [00:35<01:12,  3.88MB/s]: \u001B[A\n",
      "██████████▏                    35% | 150.00/427.51 MB [00:36<01:07,  4.12MB/s]: \u001B[A\n",
      "██████████▌                    36% | 155.00/427.51 MB [00:37<01:11,  3.79MB/s]: \u001B[A\n",
      "██████████▊                    37% | 160.00/427.51 MB [00:38<01:05,  4.09MB/s]: \u001B[A\n",
      "███████████▏                   39% | 165.00/427.51 MB [00:39<01:01,  4.27MB/s]: \u001B[A\n",
      "███████████▌                   40% | 170.00/427.51 MB [00:40<00:59,  4.36MB/s]: \u001B[A\n",
      "███████████▊                   41% | 175.00/427.51 MB [00:41<00:56,  4.46MB/s]: \u001B[A\n",
      "████████████▏                  42% | 180.00/427.51 MB [00:42<00:53,  4.64MB/s]: \u001B[A\n",
      "████████████▌                  43% | 185.00/427.51 MB [00:43<00:51,  4.74MB/s]: \u001B[A\n",
      "████████████▉                  44% | 190.00/427.51 MB [00:45<00:50,  4.72MB/s]: \u001B[A\n",
      "█████████████▏                 46% | 195.00/427.51 MB [00:46<00:54,  4.23MB/s]: \u001B[A\n",
      "█████████████▌                 47% | 200.00/427.51 MB [00:47<00:54,  4.17MB/s]: \u001B[A\n",
      "█████████████▉                 48% | 205.00/427.51 MB [00:48<00:50,  4.36MB/s]: \u001B[A\n",
      "██████████████▏                49% | 210.00/427.51 MB [00:49<00:49,  4.41MB/s]: \u001B[A\n",
      "██████████████▌                50% | 215.00/427.51 MB [00:50<00:46,  4.59MB/s]: \u001B[A\n",
      "██████████████▉                51% | 220.00/427.51 MB [00:52<00:48,  4.25MB/s]: \u001B[A\n",
      "███████████████▎               53% | 225.00/427.51 MB [00:53<00:48,  4.14MB/s]: \u001B[A\n",
      "███████████████▌               54% | 230.00/427.51 MB [00:54<00:47,  4.14MB/s]: \u001B[A\n",
      "███████████████▉               55% | 235.00/427.51 MB [00:56<00:49,  3.92MB/s]: \u001B[A\n",
      "████████████████▎              56% | 240.00/427.51 MB [00:57<00:46,  4.00MB/s]: \u001B[A\n",
      "████████████████▌              57% | 245.00/427.51 MB [00:58<00:44,  4.13MB/s]: \u001B[A\n",
      "████████████████▉              58% | 250.00/427.51 MB [00:59<00:40,  4.37MB/s]: \u001B[A\n",
      "█████████████████▎             60% | 255.00/427.51 MB [01:00<00:38,  4.53MB/s]: \u001B[A\n",
      "█████████████████▋             61% | 260.00/427.51 MB [01:01<00:39,  4.28MB/s]: \u001B[A\n",
      "█████████████████▉             62% | 265.00/427.51 MB [01:03<00:39,  4.10MB/s]: \u001B[A\n",
      "██████████████████▎            63% | 270.00/427.51 MB [01:04<00:37,  4.20MB/s]: \u001B[A\n",
      "██████████████████▋            64% | 275.00/427.51 MB [01:05<00:37,  4.07MB/s]: \u001B[A\n",
      "██████████████████▉            65% | 280.00/427.51 MB [01:06<00:36,  4.08MB/s]: \u001B[A\n",
      "███████████████████▎           67% | 285.00/427.51 MB [01:07<00:34,  4.11MB/s]: \u001B[A\n",
      "███████████████████▋           68% | 290.00/427.51 MB [01:09<00:36,  3.81MB/s]: \u001B[A\n",
      "████████████████████           69% | 295.00/427.51 MB [01:10<00:34,  3.87MB/s]: \u001B[A\n",
      "████████████████████▎          70% | 300.00/427.51 MB [01:11<00:30,  4.12MB/s]: \u001B[A\n",
      "████████████████████▋          71% | 305.00/427.51 MB [01:12<00:28,  4.29MB/s]: \u001B[A\n",
      "█████████████████████          73% | 310.00/427.51 MB [01:14<00:27,  4.25MB/s]: \u001B[A\n",
      "█████████████████████▎         74% | 315.00/427.51 MB [01:15<00:25,  4.44MB/s]: \u001B[A\n",
      "█████████████████████▋         75% | 320.00/427.51 MB [01:16<00:23,  4.55MB/s]: \u001B[A\n",
      "██████████████████████         76% | 325.00/427.51 MB [01:17<00:21,  4.67MB/s]: \u001B[A\n",
      "██████████████████████▍        77% | 330.00/427.51 MB [01:18<00:20,  4.73MB/s]: \u001B[A\n",
      "██████████████████████▋        78% | 335.00/427.51 MB [01:19<00:19,  4.78MB/s]: \u001B[A\n",
      "███████████████████████        80% | 340.00/427.51 MB [01:20<00:18,  4.69MB/s]: \u001B[A\n",
      "███████████████████████▍       81% | 345.00/427.51 MB [01:21<00:18,  4.39MB/s]: \u001B[A\n",
      "███████████████████████▋       82% | 350.00/427.51 MB [01:22<00:17,  4.54MB/s]: \u001B[A\n",
      "████████████████████████       83% | 355.00/427.51 MB [01:23<00:15,  4.70MB/s]: \u001B[A\n",
      "████████████████████████▍      84% | 360.00/427.51 MB [01:24<00:13,  4.84MB/s]: \u001B[A\n",
      "████████████████████████▊      85% | 365.00/427.51 MB [01:25<00:13,  4.74MB/s]: \u001B[A\n",
      "█████████████████████████      87% | 370.00/427.51 MB [01:26<00:12,  4.75MB/s]: \u001B[A\n",
      "█████████████████████████▍     88% | 375.00/427.51 MB [01:27<00:11,  4.61MB/s]: \u001B[A\n",
      "█████████████████████████▊     89% | 380.00/427.51 MB [01:29<00:10,  4.48MB/s]: \u001B[A\n",
      "██████████████████████████     90% | 385.00/427.51 MB [01:30<00:09,  4.50MB/s]: \u001B[A\n",
      "██████████████████████████▍    91% | 390.00/427.51 MB [01:31<00:09,  3.76MB/s]: \u001B[A\n",
      "██████████████████████████▊    92% | 395.00/427.51 MB [01:33<00:08,  3.99MB/s]: \u001B[A\n",
      "███████████████████████████▏   94% | 400.00/427.51 MB [01:34<00:08,  3.41MB/s]: \u001B[A\n",
      "███████████████████████████▍   95% | 405.00/427.51 MB [01:38<00:09,  2.40MB/s]: \u001B[A\n",
      "███████████████████████████▊   96% | 410.00/427.51 MB [01:41<00:08,  2.13MB/s]: \u001B[A\n",
      "████████████████████████████▏  97% | 415.00/427.51 MB [01:43<00:05,  2.31MB/s]: \u001B[A\n",
      "████████████████████████████▍  98% | 420.00/427.51 MB [01:44<00:02,  2.54MB/s]: \u001B[A\n",
      "█████████████████████████████ 100% | 427.51/427.51 MB [01:47<00:00,  2.51MB/s]: \u001B[A\n",
      "███████████████████████████▋   95% | 410.00/429.44 MB [01:43<00:07,  2.55MB/s]: \u001B[A\n",
      "█████████████████████████████ 100% | 427.51/427.51 MB [01:49<00:00,  3.91MB/s]: \u001B[A\n",
      "\n",
      "████████████████████████████▎  98% | 420.00/429.44 MB [01:45<00:02,  3.51MB/s]: \u001B[A\n",
      "████████████████████████████▋  99% | 425.00/429.44 MB [01:45<00:01,  4.12MB/s]: \u001B[A\n",
      "█████████████████████████████ 100% | 429.44/429.44 MB [01:47<00:00,  3.99MB/s]: \u001B[A\n"
     ]
    },
    {
     "name": "stdout",
     "output_type": "stream",
     "text": [
      "File compression and upload completed: total size 856.95 MiB, 2 chunk(s) stored (average size 428.48 MiB)\n"
     ]
    },
    {
     "name": "stderr",
     "output_type": "stream",
     "text": [
      "█████████████████████████████████ 100% | 6.89/6.89 MB [00:00<00:00, 21.16MB/s]: \n",
      "█████████████████████████████████ 100% | 6.89/6.89 MB [00:00<00:00, 14.35MB/s]: \n"
     ]
    },
    {
     "data": {
      "text/plain": [
       "True"
      ]
     },
     "execution_count": 3,
     "metadata": {},
     "output_type": "execute_result"
    }
   ],
   "execution_count": 3
  }
 ],
 "metadata": {
  "kernelspec": {
   "display_name": "Python 3",
   "language": "python",
   "name": "python3"
  },
  "language_info": {
   "codemirror_mode": {
    "name": "ipython",
    "version": 2
   },
   "file_extension": ".py",
   "mimetype": "text/x-python",
   "name": "python",
   "nbconvert_exporter": "python",
   "pygments_lexer": "ipython2",
   "version": "2.7.6"
  }
 },
 "nbformat": 4,
 "nbformat_minor": 5
}
