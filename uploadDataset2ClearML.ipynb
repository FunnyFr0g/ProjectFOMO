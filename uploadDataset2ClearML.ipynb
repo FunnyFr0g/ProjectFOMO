{
 "cells": [
  {
   "metadata": {},
   "cell_type": "markdown",
   "source": "# Облако",
   "id": "8dbe8595117b5a01"
  },
  {
   "cell_type": "code",
   "execution_count": null,
   "id": "initial_id",
   "metadata": {
    "collapsed": true
   },
   "outputs": [],
   "source": [
    "\n",
    "%env CLEARML_WEB_HOST=https://app.clear.ml/\n",
    "%env CLEARML_API_HOST=https://api.clear.ml\n",
    "%env CLEARML_FILES_HOST=https://files.clear.ml\n",
    "%env CLEARML_API_ACCESS_KEY=UYT7CN4QVOORGQHYBKIC17B9SQUWOP\n",
    "%env CLEARML_API_SECRET_KEY=L06BUQ4bFm7nNmd3wHK-kDmC0H6i7HnYqKAOGaKuCCF3cCEi1FTJTGh0dABiOgCQY8c"
   ]
  },
  {
   "metadata": {},
   "cell_type": "markdown",
   "source": "# Локальный сервер",
   "id": "b48372555f91202c"
  },
  {
   "metadata": {
    "ExecuteTime": {
     "end_time": "2025-09-18T07:32:10.014461Z",
     "start_time": "2025-09-18T07:32:09.991691Z"
    }
   },
   "cell_type": "code",
   "outputs": [
    {
     "name": "stdout",
     "output_type": "stream",
     "text": [
      "env: CLEARML_WEB_HOST=http://clearml.neuro.pro/\n",
      "env: CLEARML_API_HOST=http://clearml.neuro.pro:8008\n",
      "env: CLEARML_API_ACCESS_KEY=FCIPBUK4NYRADK02Y27SEK99P112ZT\n",
      "env: CLEARML_API_SECRET_KEY=QfZqkM8zpiMazccdd_EQJM3qp_F-1owW8OVJgef2fnoBCutVHWoVkN9hWxtvsAuKGSQ\n"
     ]
    }
   ],
   "execution_count": 1,
   "source": [
    "%env CLEARML_WEB_HOST=http://clearml.neuro.pro/\n",
    "%env CLEARML_API_HOST=http://clearml.neuro.pro:8008\n",
    "# %env CLEARML_FILES_HOST=https://files.clear.ml\n",
    "%env CLEARML_API_ACCESS_KEY=FCIPBUK4NYRADK02Y27SEK99P112ZT\n",
    "%env CLEARML_API_SECRET_KEY=QfZqkM8zpiMazccdd_EQJM3qp_F-1owW8OVJgef2fnoBCutVHWoVkN9hWxtvsAuKGSQ"
   ],
   "id": "a3358f24805cf354"
  },
  {
   "metadata": {},
   "cell_type": "markdown",
   "source": "# загрузка датасета",
   "id": "cbb360dd955305d4"
  },
  {
   "metadata": {},
   "cell_type": "code",
   "outputs": [],
   "execution_count": null,
   "source": [
    "from clearml import Task, Logger, Dataset\n",
    "\n",
    "dataset = Dataset.create(\n",
    "    dataset_name='FOMO_SOD_train',\n",
    "    dataset_project='ClearML_Test',\n",
    "    description = 'фото 224х224 кропнутые из открытого датасета MVA23 с COCO разметкой'\n",
    ")\n",
    "\n",
    "train_path = r'X:\\SOD\\MVA2023SmallObjectDetection4SpottingBirds\\data\\mva2023_sod4bird_train_FOMO\\train\\images'\n",
    "train_ann_path = r'X:\\SOD\\MVA2023SmallObjectDetection4SpottingBirds\\data\\mva2023_sod4bird_train_FOMO\\mva23_FOMO_train.json'\n",
    "dataset.add_files(path=train_path, dataset_path='train/images')\n",
    "dataset.add_files(path=train_ann_path, dataset_path='train/train_annotations')\n",
    "\n",
    "val_path = r'X:\\SOD\\MVA2023SmallObjectDetection4SpottingBirds\\data\\mva2023_sod4bird_train_FOMO\\val\\images'\n",
    "val_ann_path = r'X:\\SOD\\MVA2023SmallObjectDetection4SpottingBirds\\data\\mva2023_sod4bird_train_FOMO\\mva23_FOMO_val.json'\n",
    "dataset.add_files(path=val_path, dataset_path='val/images')\n",
    "dataset.add_files(path=val_ann_path, dataset_path='val/val_annotations')\n",
    "\n",
    "dataset.upload(compression=False)\n",
    "dataset.finalize()"
   ],
   "id": "88e004eb86e3bd31"
  }
 ],
 "metadata": {
  "kernelspec": {
   "display_name": "Python 3",
   "language": "python",
   "name": "python3"
  },
  "language_info": {
   "codemirror_mode": {
    "name": "ipython",
    "version": 2
   },
   "file_extension": ".py",
   "mimetype": "text/x-python",
   "name": "python",
   "nbconvert_exporter": "python",
   "pygments_lexer": "ipython2",
   "version": "2.7.6"
  }
 },
 "nbformat": 4,
 "nbformat_minor": 5
}
