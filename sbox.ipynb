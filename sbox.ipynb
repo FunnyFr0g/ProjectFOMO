{
 "cells": [
  {
   "cell_type": "code",
   "id": "initial_id",
   "metadata": {
    "collapsed": true,
    "ExecuteTime": {
     "end_time": "2025-10-01T10:59:26.694047Z",
     "start_time": "2025-10-01T10:59:19.754535Z"
    }
   },
   "source": [
    "import cv2\n",
    "import numpy as np\n",
    "from pathlib import Path\n",
    "\n",
    "p = Path('C:/Users/ILYA/.clearml/cache/storage_manager/datasets/ds_45062c8b1fac490480d105ad9c945f22/val/images\\Снимок экрана от 2025-02-21 16-07-07_bpla.png')\n",
    "# p = Path('C:/Users/ILYA/.clearml/cache/storage_manager/datasets/ds_45062c8b1fac490480d105ad9c945f22/val/images/20190925_101846_1_1_visible_frame_0769_drone.png')\n",
    "\n",
    "def imread_unicode(path):\n",
    "    \"\"\"Чтение изображений с кириллицей в путях\"\"\"\n",
    "    stream = open(path, \"rb\")\n",
    "    bytes = bytearray(stream.read())\n",
    "    numpyarray = np.asarray(bytes, dtype=np.uint8)\n",
    "    img = cv2.imdecode(numpyarray, cv2.IMREAD_UNCHANGED)\n",
    "    stream.close()\n",
    "    return img\n",
    "\n",
    "img = imread_unicode(p)\n",
    "\n",
    "cv2.imshow(\"image\", img)\n",
    "cv2.waitKey(0)"
   ],
   "outputs": [
    {
     "data": {
      "text/plain": [
       "-1"
      ]
     },
     "execution_count": 5,
     "metadata": {},
     "output_type": "execute_result"
    }
   ],
   "execution_count": 5
  },
  {
   "metadata": {
    "ExecuteTime": {
     "end_time": "2025-10-01T10:58:55.042479Z",
     "start_time": "2025-10-01T10:58:52.763083Z"
    }
   },
   "cell_type": "code",
   "outputs": [
    {
     "data": {
      "text/plain": [
       "-1"
      ]
     },
     "execution_count": 3,
     "metadata": {},
     "output_type": "execute_result"
    }
   ],
   "execution_count": 3,
   "source": [
    "import cv2\n",
    "import numpy as np\n",
    "img = np.array([[255,255,0],[255,255,0], [255,255,0],[255,255,0]], np.uint8)\n",
    "cv2.imshow(\"image\", img)\n",
    "\n",
    "cv2.imshow(\"image\", img)\n",
    "cv2.waitKey(0)"
   ],
   "id": "e2868475d221699"
  }
 ],
 "metadata": {
  "kernelspec": {
   "display_name": "Python 3",
   "language": "python",
   "name": "python3"
  },
  "language_info": {
   "codemirror_mode": {
    "name": "ipython",
    "version": 2
   },
   "file_extension": ".py",
   "mimetype": "text/x-python",
   "name": "python",
   "nbconvert_exporter": "python",
   "pygments_lexer": "ipython2",
   "version": "2.7.6"
  }
 },
 "nbformat": 4,
 "nbformat_minor": 5
}
